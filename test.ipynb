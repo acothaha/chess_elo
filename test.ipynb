{
 "cells": [
  {
   "cell_type": "markdown",
   "metadata": {},
   "source": [
    "# **Mobile Games A/B Testing - Cookie Cats**\n",
    "\n",
    "*[Based on Mobile Games A/B Testing with Cookie Cats Project by DataCamp](https://app.datacamp.com/learn/projects/184)*\n",
    "\n",
    "\n",
    "*by Abdurrahman Shiddiq Thaha*\n",
    "\n",
    "*November 2022*\n",
    "\n",
    "---\n",
    "\n",
    "## Content\n",
    "\n",
    "1. Introduction\n",
    "2. Import Libraries\n",
    "3. Data Loading\n",
    "4. Exploratory Data Analysis (EDA)\n",
    "5. Data Preprocessing\n",
    "6. Model Definition\n",
    "7. Model Training\n",
    "8. Model Evaluation\n",
    "9. Model Saving\n",
    "10. Model Inference\n",
    "11. Conclusion"
   ]
  },
  {
   "cell_type": "markdown",
   "metadata": {},
   "source": [
    "##  1. Introduction \n",
    "\n",
    "### 1.1 Background\n",
    "\n",
    "Cookie Cats is a hugely popular mobile puzzle game developed by Tactile Entertainment. It's a classic \"connect three\" style puzzle game where the player must connect tiles of the same color in order to clear the board and win the level. It also features singing cats. We're not kidding!\n",
    "\n",
    "<center><iframe width=\"560\" height=\"315\" src=\"https://www.youtube.com/embed/GaP5f0jVTWE\" frameborder=\"0\" allow=\"accelerometer; autoplay; clipboard-write; encrypted-media; gyroscope; picture-in-picture\" allowfullscreen></iframe></iframe></center>\n",
    "\n",
    "As players progress through the game they will encounter gates that force them to wait some time before they can progress or make an in-app purchase.\n",
    "\n",
    "### 1.2 Problem Statement\n",
    "\n",
    "Create an analysis of an A/B test where the first gate in Cookie Cats was moved from level 30 to level 40. In particular, we will analyze the impact on player retention and game rounds."
   ]
  },
  {
   "cell_type": "markdown",
   "metadata": {},
   "source": [
    "## 2. Import Libraries \n",
    "\n",
    "These are libraries that are used in this assignment:\n",
    "\n",
    "### Base\n",
    "\n",
    "- numpy : Used to do mathematical calculation necessary in the data analysis\n",
    "\n",
    "- pandas : Used to load and process data\n",
    "\n",
    "- seaborn : Used to do an alternative data visualization\n",
    "\n",
    "- matplotlib : Used to visualize data\n",
    "\n",
    "### Hypothesis Testing\n",
    "\n",
    "- scipy.stats : Used to do statistical calculation and hypothesis testing\n",
    "\n",
    "### Configuration\n",
    "\n",
    "- warnings : Used to ignore any warning"
   ]
  },
  {
   "cell_type": "code",
   "execution_count": 313,
   "metadata": {},
   "outputs": [],
   "source": [
    "# Base\n",
    "import numpy as np\n",
    "import pandas as pd \n",
    "import seaborn as sns\n",
    "import matplotlib.pyplot as plt\n",
    "\n",
    "# Hypothesis Testing\n",
    "from scipy.stats import shapiro\n",
    "import scipy.stats as stats\n",
    "\n",
    "# Configuration\n",
    "import warnings\n",
    "warnings.simplefilter('ignore')\n",
    "\n",
    "%matplotlib inline\n",
    "sns.set_style(style='white')\n",
    "\n",
    "pd.set_option('display.max_columns', None)\n",
    "\n",
    "np.random.seed(420)"
   ]
  },
  {
   "cell_type": "markdown",
   "metadata": {
    "tags": []
   },
   "source": [
    "## 3. Data Loading \n",
    "\n",
    "We have been provided with 1 dataset . The description for what the dataset contain is given below: \n",
    "\n",
    "\n",
    "- **cookie_cats.csv** : he data is from 90,189 players that installed the game while the AB-test was running.\n",
    "\n",
    "The details of the dataset can be seen here [Here](https://www.kaggle.com/datasets/mursideyarkin/mobile-games-ab-testing-cookie-cats)\n",
    "\n",
    "### • Data Description\n",
    "\n",
    "| Variable | Definition | Description |\n",
    "| --- | --- | --- |\n",
    "| userid | a unique number that identifies each player |  |\n",
    "| version | Whether the player put in the control group | gate_30: a gate at level 30, gate_40: a gate at level 40 |\n",
    "| sum_gamerounds | the number of game round played by the player during the first week after installation |  |\n",
    "| retention_1 | did the player come back and play 1 day after installing? |  |\n",
    "| retention_7 | did the player come back and play 1 day after installing? |  |\n",
    "\n",
    "When a plater install the game, they will randomly assigned to either gate_30 or gate_40"
   ]
  },
  {
   "cell_type": "code",
   "execution_count": 314,
   "metadata": {},
   "outputs": [],
   "source": [
    "# Loading data\n",
    "df = pd.read_csv('data/cookie_cats.csv')"
   ]
  },
  {
   "cell_type": "code",
   "execution_count": 315,
   "metadata": {},
   "outputs": [],
   "source": [
    "# Duplicate Dataset\n",
    "df_ab = df.copy()"
   ]
  },
  {
   "cell_type": "code",
   "execution_count": 316,
   "metadata": {},
   "outputs": [
    {
     "data": {
      "text/plain": [
       "(90189, 5)"
      ]
     },
     "execution_count": 316,
     "metadata": {},
     "output_type": "execute_result"
    }
   ],
   "source": [
    "# Checking the shape of the dataset\n",
    "df.shape"
   ]
  },
  {
   "cell_type": "markdown",
   "metadata": {},
   "source": [
    "This dataset has 90189 rows and 5 columns"
   ]
  },
  {
   "cell_type": "code",
   "execution_count": 317,
   "metadata": {},
   "outputs": [
    {
     "data": {
      "text/html": [
       "<div>\n",
       "<style scoped>\n",
       "    .dataframe tbody tr th:only-of-type {\n",
       "        vertical-align: middle;\n",
       "    }\n",
       "\n",
       "    .dataframe tbody tr th {\n",
       "        vertical-align: top;\n",
       "    }\n",
       "\n",
       "    .dataframe thead th {\n",
       "        text-align: right;\n",
       "    }\n",
       "</style>\n",
       "<table border=\"1\" class=\"dataframe\">\n",
       "  <thead>\n",
       "    <tr style=\"text-align: right;\">\n",
       "      <th></th>\n",
       "      <th>userid</th>\n",
       "      <th>version</th>\n",
       "      <th>sum_gamerounds</th>\n",
       "      <th>retention_1</th>\n",
       "      <th>retention_7</th>\n",
       "    </tr>\n",
       "  </thead>\n",
       "  <tbody>\n",
       "    <tr>\n",
       "      <th>0</th>\n",
       "      <td>116</td>\n",
       "      <td>gate_30</td>\n",
       "      <td>3</td>\n",
       "      <td>False</td>\n",
       "      <td>False</td>\n",
       "    </tr>\n",
       "    <tr>\n",
       "      <th>1</th>\n",
       "      <td>337</td>\n",
       "      <td>gate_30</td>\n",
       "      <td>38</td>\n",
       "      <td>True</td>\n",
       "      <td>False</td>\n",
       "    </tr>\n",
       "    <tr>\n",
       "      <th>2</th>\n",
       "      <td>377</td>\n",
       "      <td>gate_40</td>\n",
       "      <td>165</td>\n",
       "      <td>True</td>\n",
       "      <td>False</td>\n",
       "    </tr>\n",
       "  </tbody>\n",
       "</table>\n",
       "</div>"
      ],
      "text/plain": [
       "   userid  version  sum_gamerounds  retention_1  retention_7\n",
       "0     116  gate_30               3        False        False\n",
       "1     337  gate_30              38         True        False\n",
       "2     377  gate_40             165         True        False"
      ]
     },
     "execution_count": 317,
     "metadata": {},
     "output_type": "execute_result"
    }
   ],
   "source": [
    "# Look at the first 3 rows\n",
    "df_ab.head(3)"
   ]
  },
  {
   "cell_type": "code",
   "execution_count": 318,
   "metadata": {},
   "outputs": [
    {
     "data": {
      "text/html": [
       "<div>\n",
       "<style scoped>\n",
       "    .dataframe tbody tr th:only-of-type {\n",
       "        vertical-align: middle;\n",
       "    }\n",
       "\n",
       "    .dataframe tbody tr th {\n",
       "        vertical-align: top;\n",
       "    }\n",
       "\n",
       "    .dataframe thead th {\n",
       "        text-align: right;\n",
       "    }\n",
       "</style>\n",
       "<table border=\"1\" class=\"dataframe\">\n",
       "  <thead>\n",
       "    <tr style=\"text-align: right;\">\n",
       "      <th></th>\n",
       "      <th>userid</th>\n",
       "      <th>version</th>\n",
       "      <th>sum_gamerounds</th>\n",
       "      <th>retention_1</th>\n",
       "      <th>retention_7</th>\n",
       "    </tr>\n",
       "  </thead>\n",
       "  <tbody>\n",
       "    <tr>\n",
       "      <th>90186</th>\n",
       "      <td>9999710</td>\n",
       "      <td>gate_30</td>\n",
       "      <td>28</td>\n",
       "      <td>True</td>\n",
       "      <td>False</td>\n",
       "    </tr>\n",
       "    <tr>\n",
       "      <th>90187</th>\n",
       "      <td>9999768</td>\n",
       "      <td>gate_40</td>\n",
       "      <td>51</td>\n",
       "      <td>True</td>\n",
       "      <td>False</td>\n",
       "    </tr>\n",
       "    <tr>\n",
       "      <th>90188</th>\n",
       "      <td>9999861</td>\n",
       "      <td>gate_40</td>\n",
       "      <td>16</td>\n",
       "      <td>False</td>\n",
       "      <td>False</td>\n",
       "    </tr>\n",
       "  </tbody>\n",
       "</table>\n",
       "</div>"
      ],
      "text/plain": [
       "        userid  version  sum_gamerounds  retention_1  retention_7\n",
       "90186  9999710  gate_30              28         True        False\n",
       "90187  9999768  gate_40              51         True        False\n",
       "90188  9999861  gate_40              16        False        False"
      ]
     },
     "execution_count": 318,
     "metadata": {},
     "output_type": "execute_result"
    }
   ],
   "source": [
    "# Look at the last 3 rows\n",
    "df_ab.tail(3)"
   ]
  },
  {
   "cell_type": "code",
   "execution_count": 319,
   "metadata": {},
   "outputs": [
    {
     "name": "stdout",
     "output_type": "stream",
     "text": [
      "<class 'pandas.core.frame.DataFrame'>\n",
      "RangeIndex: 90189 entries, 0 to 90188\n",
      "Data columns (total 5 columns):\n",
      " #   Column          Non-Null Count  Dtype \n",
      "---  ------          --------------  ----- \n",
      " 0   userid          90189 non-null  int64 \n",
      " 1   version         90189 non-null  object\n",
      " 2   sum_gamerounds  90189 non-null  int64 \n",
      " 3   retention_1     90189 non-null  bool  \n",
      " 4   retention_7     90189 non-null  bool  \n",
      "dtypes: bool(2), int64(2), object(1)\n",
      "memory usage: 2.2+ MB\n"
     ]
    }
   ],
   "source": [
    "# Show concise summary of the data\n",
    "df_ab.info()"
   ]
  },
  {
   "cell_type": "markdown",
   "metadata": {},
   "source": [
    "- there is no column that have null values\n",
    "- there are 1 columns with object datatype, 2 columns with boolean datatype and 2 columns with int64 datatype"
   ]
  },
  {
   "cell_type": "markdown",
   "metadata": {},
   "source": [
    "### • Checking for duplicate"
   ]
  },
  {
   "cell_type": "code",
   "execution_count": 320,
   "metadata": {},
   "outputs": [
    {
     "data": {
      "text/plain": [
       "0"
      ]
     },
     "execution_count": 320,
     "metadata": {},
     "output_type": "execute_result"
    }
   ],
   "source": [
    "# Checking if the dataset have duplicate\n",
    "df_ab.shape[0] - df_ab.drop_duplicates().shape[0]"
   ]
  },
  {
   "cell_type": "markdown",
   "metadata": {},
   "source": [
    "There is not duplicate data"
   ]
  },
  {
   "cell_type": "code",
   "execution_count": 321,
   "metadata": {},
   "outputs": [
    {
     "data": {
      "text/html": [
       "<div>\n",
       "<style scoped>\n",
       "    .dataframe tbody tr th:only-of-type {\n",
       "        vertical-align: middle;\n",
       "    }\n",
       "\n",
       "    .dataframe tbody tr th {\n",
       "        vertical-align: top;\n",
       "    }\n",
       "\n",
       "    .dataframe thead th {\n",
       "        text-align: right;\n",
       "    }\n",
       "</style>\n",
       "<table border=\"1\" class=\"dataframe\">\n",
       "  <thead>\n",
       "    <tr style=\"text-align: right;\">\n",
       "      <th></th>\n",
       "      <th>userid</th>\n",
       "      <th>sum_gamerounds</th>\n",
       "    </tr>\n",
       "  </thead>\n",
       "  <tbody>\n",
       "    <tr>\n",
       "      <th>count</th>\n",
       "      <td>9.018900e+04</td>\n",
       "      <td>90189.000000</td>\n",
       "    </tr>\n",
       "    <tr>\n",
       "      <th>mean</th>\n",
       "      <td>4.998412e+06</td>\n",
       "      <td>51.872457</td>\n",
       "    </tr>\n",
       "    <tr>\n",
       "      <th>std</th>\n",
       "      <td>2.883286e+06</td>\n",
       "      <td>195.050858</td>\n",
       "    </tr>\n",
       "    <tr>\n",
       "      <th>min</th>\n",
       "      <td>1.160000e+02</td>\n",
       "      <td>0.000000</td>\n",
       "    </tr>\n",
       "    <tr>\n",
       "      <th>25%</th>\n",
       "      <td>2.512230e+06</td>\n",
       "      <td>5.000000</td>\n",
       "    </tr>\n",
       "    <tr>\n",
       "      <th>50%</th>\n",
       "      <td>4.995815e+06</td>\n",
       "      <td>16.000000</td>\n",
       "    </tr>\n",
       "    <tr>\n",
       "      <th>75%</th>\n",
       "      <td>7.496452e+06</td>\n",
       "      <td>51.000000</td>\n",
       "    </tr>\n",
       "    <tr>\n",
       "      <th>max</th>\n",
       "      <td>9.999861e+06</td>\n",
       "      <td>49854.000000</td>\n",
       "    </tr>\n",
       "  </tbody>\n",
       "</table>\n",
       "</div>"
      ],
      "text/plain": [
       "             userid  sum_gamerounds\n",
       "count  9.018900e+04    90189.000000\n",
       "mean   4.998412e+06       51.872457\n",
       "std    2.883286e+06      195.050858\n",
       "min    1.160000e+02        0.000000\n",
       "25%    2.512230e+06        5.000000\n",
       "50%    4.995815e+06       16.000000\n",
       "75%    7.496452e+06       51.000000\n",
       "max    9.999861e+06    49854.000000"
      ]
     },
     "execution_count": 321,
     "metadata": {},
     "output_type": "execute_result"
    }
   ],
   "source": [
    "# Generate some descriptive statistics of numerical data\n",
    "df_ab.describe()"
   ]
  },
  {
   "cell_type": "markdown",
   "metadata": {},
   "source": [
    "We can see above, it seems there is an anomaly in `sum_gamerounds` where the maximum value is way beyond the 75th quartile."
   ]
  },
  {
   "cell_type": "code",
   "execution_count": 322,
   "metadata": {},
   "outputs": [
    {
     "data": {
      "text/plain": [
       "57702    49854\n",
       "7912      2961\n",
       "29417     2640\n",
       "43671     2438\n",
       "48188     2294\n",
       "         ...  \n",
       "59687        0\n",
       "23707        0\n",
       "59670        0\n",
       "59645        0\n",
       "45094        0\n",
       "Name: sum_gamerounds, Length: 90189, dtype: int64"
      ]
     },
     "execution_count": 322,
     "metadata": {},
     "output_type": "execute_result"
    }
   ],
   "source": [
    "df_ab['sum_gamerounds'].sort_values(ascending=False)"
   ]
  },
  {
   "cell_type": "markdown",
   "metadata": {},
   "source": [
    "since it seems that only one instance is the anomaly, we will do outliers handling on that one particular entry only "
   ]
  },
  {
   "cell_type": "markdown",
   "metadata": {},
   "source": [
    "### • Outliers handling"
   ]
  },
  {
   "cell_type": "code",
   "execution_count": 323,
   "metadata": {},
   "outputs": [],
   "source": [
    "# Defining a function to analyze outlier in the data\n",
    "\n",
    "def outlier_analysis(df, col, d):\n",
    "    skewness = df[col].skew()\n",
    "    if skewness >= 0.5 and skewness<=0.5:\n",
    "        upper = df[col].mean() + d*df[col].std()\n",
    "        lower = df[col].mean() - d*df[col].std()\n",
    "        method = 'Z-Score'\n",
    "    else:\n",
    "        q3 = df[col].quantile(0.75)\n",
    "        q1 = df[col].quantile(0.25)\n",
    "        iqr = q3 - q1\n",
    "        upper_bound = q3 + (iqr * d)\n",
    "        lower_bound = q1 - (iqr * d)\n",
    "        method = 'IQR'\n",
    "\n",
    "    outlier = df.loc[(df[col] > upper_bound) | (df[col] < lower_bound)]\n",
    "    \n",
    "    return outlier, method, upper_bound, lower_bound"
   ]
  },
  {
   "cell_type": "code",
   "execution_count": 324,
   "metadata": {},
   "outputs": [],
   "source": [
    "# Defining a function to go through every numerical column and handle their outliers\n",
    "def outlier_handling(df, column, d=3):\n",
    "    for col in column:\n",
    "        out, method, up, low = outlier_analysis(df, col, d)\n",
    "        pct_out = (len(out)/len(df))*100\n",
    "        # if outliers percentage is under 10%, we will drop the data\n",
    "        if pct_out <= 10:\n",
    "            df = df[(df[col]>=low) & (df[col]<=up)]\n",
    "        # if outliers percentage is over 10%, we will cap the outliers \n",
    "        else:\n",
    "            df[col] = df[col].apply(lambda x: up if x>=up else low if x<=low else x)\n",
    "            \n",
    "    return df"
   ]
  },
  {
   "cell_type": "code",
   "execution_count": 325,
   "metadata": {},
   "outputs": [],
   "source": [
    "df_ab = outlier_handling(df_ab, ['sum_gamerounds'])"
   ]
  },
  {
   "cell_type": "code",
   "execution_count": 326,
   "metadata": {},
   "outputs": [],
   "source": [
    "# df_ab = df_ab[df_ab['sum_gamerounds'] < df_ab['sum_gamerounds'].max()]"
   ]
  },
  {
   "cell_type": "markdown",
   "metadata": {},
   "source": [
    "## 4. Exploratory Data Analysis (EDA)\n",
    "\n",
    "There are 3 datatypes in the dataset:\n",
    "\n",
    "1. Numerical: `sum_gamerounds`\n",
    "\n",
    "2. Categorical/boolean: `version`, `retention_1`, `retention_7`\n",
    "\n",
    "\n",
    "\n",
    "For each datatype, we will do different data exploration"
   ]
  },
  {
   "cell_type": "markdown",
   "metadata": {},
   "source": [
    "### • Univariate"
   ]
  },
  {
   "cell_type": "markdown",
   "metadata": {},
   "source": [
    "#### Numerical\n",
    "\n",
    "For numerical data type, we will see the distribution of each column\n"
   ]
  },
  {
   "cell_type": "code",
   "execution_count": 327,
   "metadata": {},
   "outputs": [],
   "source": [
    "num_col = ['sum_gamerounds']"
   ]
  },
  {
   "cell_type": "code",
   "execution_count": 328,
   "metadata": {},
   "outputs": [],
   "source": [
    "# defining a function to plot the distribution of data\n",
    "def plot_numerical(df, feature, length=16, width=14):\n",
    "    if len(feature) == 1:\n",
    "        fig, axes = plt.subplots(2, 1, figsize=(10,6))\n",
    "        skew = df[feature[0]].skew()\n",
    "            \n",
    "        _ = sns.histplot(x=df[feature[0]], ax=axes[0], bins='auto', kde=True)\n",
    "        axes[0].set_title(f'Distribution of {feature[0]} (skewness = {skew:.3f})')\n",
    "            \n",
    "            \n",
    "        _ = sns.boxplot(x=df[feature[0]], ax=axes[1])\n",
    "        axes[1].set_title(f'''Boxplot of {feature[0]}''')\n",
    "        sns.despine()\n",
    "            \n",
    "        plt.tight_layout()\n",
    "        \n",
    "    else:\n",
    "        fig, axes = plt.subplots(len(feature), 2, figsize=(length, width))\n",
    "        for c, ax in zip(feature, axes):\n",
    "            skew = df[c].skew()\n",
    "            \n",
    "            _ = sns.histplot(x=df[c], ax=ax[0], bins='auto')\n",
    "            ax[0].set_title(f'Distribution of {c} (skewness = {skew:.3f})')\n",
    "            \n",
    "            \n",
    "            _ = sns.boxplot(x=df[c], ax=ax[1])\n",
    "            ax[1].set_title(f'''Boxplot of {c}''')\n",
    "            sns.despine()\n",
    "            \n",
    "        plt.tight_layout()"
   ]
  },
  {
   "cell_type": "code",
   "execution_count": 329,
   "metadata": {},
   "outputs": [
    {
     "data": {
      "image/png": "[encoded data removed]",
      "text/plain": [
       "<Figure size 1000x600 with 2 Axes>"
      ]
     },
     "metadata": {},
     "output_type": "display_data"
    }
   ],
   "source": [
    "plot_numerical(df_ab, num_col)"
   ]
  },
  {
   "cell_type": "markdown",
   "metadata": {},
   "source": [
    "Most of the players play the game at early stage and they don't continue playing and on top of that there are people who install the game then not playing the game at all."
   ]
  },
  {
   "cell_type": "code",
   "execution_count": 330,
   "metadata": {},
   "outputs": [
    {
     "data": {
      "text/plain": [
       "3994"
      ]
     },
     "execution_count": 330,
     "metadata": {},
     "output_type": "execute_result"
    }
   ],
   "source": [
    "df_ab['sum_gamerounds'].value_counts()[0]"
   ]
  },
  {
   "cell_type": "markdown",
   "metadata": {},
   "source": [
    "there are 3994 who install the game then not playing the game at all."
   ]
  },
  {
   "cell_type": "markdown",
   "metadata": {},
   "source": [
    "#### Categorical\n",
    "\n",
    "Categorical Columns: `Marathon`, `Name`, `Category`, `CrossTraining`, `CATEGORY`\n",
    "\n",
    "For categorical data type, we will see the distribution of category in each column"
   ]
  },
  {
   "cell_type": "code",
   "execution_count": 331,
   "metadata": {},
   "outputs": [],
   "source": [
    "cat_cols = ['version', 'retention_1', 'retention_7']"
   ]
  },
  {
   "cell_type": "code",
   "execution_count": 332,
   "metadata": {},
   "outputs": [
    {
     "data": {
      "image/png": "[encoded data removed]",
      "text/plain": [
       "<Figure size 800x1500 with 3 Axes>"
      ]
     },
     "metadata": {},
     "output_type": "display_data"
    }
   ],
   "source": [
    "# create a function to only show the label when it's > 5%\n",
    "def autopct(pct): \n",
    "    return ('%1.1f%%' % pct) if pct > 5 else ''\n",
    "\n",
    "fig, axes = plt.subplots(1, 3, figsize=(8,15))\n",
    "\n",
    "# flat the axes to be in one line of list\n",
    "axes = axes.flatten()\n",
    "\n",
    "# Use for loop to plot all of the categorical data into pie chart\n",
    "for c, ax in zip(cat_cols, axes):\n",
    "    _ = df_ab[c].value_counts().sort_values(ascending=False).plot(kind='pie', fontsize=10, autopct=autopct, ax=ax, title=c);\n",
    "    _ = ax.set_ylabel('')\n",
    "_ = plt.tight_layout()"
   ]
  },
  {
   "cell_type": "markdown",
   "metadata": {},
   "source": [
    "We can see above that the proportion of version gate_40 and gate_30 is arguably the same. However, from the retention_1 and retention_7 chart, we can see that only 58.8% of players didn't play the game 1 day after installing, and to make matter worse, 85.8% of players didn't play the game 7 day after installing."
   ]
  },
  {
   "cell_type": "markdown",
   "metadata": {},
   "source": [
    "### • Bivariate\n",
    "\n",
    "#### What is the distribution of sum_gamerounds based on the version?"
   ]
  },
  {
   "cell_type": "code",
   "execution_count": 333,
   "metadata": {},
   "outputs": [
    {
     "data": {
      "image/png": "[encoded data removed]",
      "text/plain": [
       "<Figure size 1200x600 with 1 Axes>"
      ]
     },
     "metadata": {},
     "output_type": "display_data"
    }
   ],
   "source": [
    "fig, ax = plt.subplots(1, 1, figsize=(12,6))\n",
    "\n",
    "\n",
    "_ = sns.histplot(x=df_ab['sum_gamerounds'], ax=ax, bins='auto', hue=df_ab['version'])\n",
    "_.set_title(f'Distibution of sum_gamerounds based on version');\n",
    "sns.despine()\n",
    "    "
   ]
  },
  {
   "cell_type": "markdown",
   "metadata": {},
   "source": [
    "As can be seen above, it appears that there is no significance different on sum_gamerounds for gate_30 and gate_40"
   ]
  },
  {
   "cell_type": "markdown",
   "metadata": {},
   "source": [
    "#### What is the distribution of Retention_1 based on the version?"
   ]
  },
  {
   "cell_type": "code",
   "execution_count": 334,
   "metadata": {},
   "outputs": [
    {
     "data": {
      "image/png": "[encoded data removed]",
      "text/plain": [
       "<Figure size 800x400 with 1 Axes>"
      ]
     },
     "metadata": {},
     "output_type": "display_data"
    }
   ],
   "source": [
    "fig, ax = plt.subplots(1, 1, figsize=(8,4))\n",
    "_ = sns.countplot(df_ab, x='retention_1', hue='version', ax=ax)\n",
    "_.bar_label(_.containers[0]);\n",
    "_.bar_label(_.containers[1]);\n",
    "\n",
    "_.set_yticks([])\n",
    "_.set_ylabel('')\n",
    "\n",
    "_.set_title(f'Distibution of retention_1 based on version')\n",
    "plt.xticks(rotation=45, ha='right');\n",
    "sns.despine(bottom = True, left = True)\n",
    "plt.tight_layout()"
   ]
  },
  {
   "cell_type": "markdown",
   "metadata": {},
   "source": [
    "As the figure showed, the proportion of retention_1 for both True and False based on the version is pretty similar."
   ]
  },
  {
   "cell_type": "markdown",
   "metadata": {},
   "source": [
    "#### What is the distribution of Retention_7 based on the version?"
   ]
  },
  {
   "cell_type": "code",
   "execution_count": 335,
   "metadata": {},
   "outputs": [
    {
     "data": {
      "image/png": "[encoded data removed]",
      "text/plain": [
       "<Figure size 800x400 with 1 Axes>"
      ]
     },
     "metadata": {},
     "output_type": "display_data"
    }
   ],
   "source": [
    "fig, ax = plt.subplots(1, 1, figsize=(8,4))\n",
    "_ = sns.countplot(df_ab, x='retention_7', hue='version', ax=ax)\n",
    "_.bar_label(_.containers[0]);\n",
    "_.bar_label(_.containers[1]);\n",
    "\n",
    "_.set_yticks([])\n",
    "_.set_ylabel('')\n",
    "\n",
    "_.set_title(f'Distibution of retention_1 based on version')\n",
    "plt.xticks(rotation=45, ha='right');\n",
    "sns.despine(bottom = True, left = True)\n",
    "plt.tight_layout()"
   ]
  },
  {
   "cell_type": "markdown",
   "metadata": {},
   "source": [
    "similar to the previous one, the proportion of retention_7 for both True and False based on the version is alike."
   ]
  },
  {
   "cell_type": "code",
   "execution_count": 336,
   "metadata": {},
   "outputs": [
    {
     "data": {
      "text/html": [
       "<div>\n",
       "<style scoped>\n",
       "    .dataframe tbody tr th:only-of-type {\n",
       "        vertical-align: middle;\n",
       "    }\n",
       "\n",
       "    .dataframe tbody tr th {\n",
       "        vertical-align: top;\n",
       "    }\n",
       "\n",
       "    .dataframe thead th {\n",
       "        text-align: right;\n",
       "    }\n",
       "</style>\n",
       "<table border=\"1\" class=\"dataframe\">\n",
       "  <thead>\n",
       "    <tr style=\"text-align: right;\">\n",
       "      <th></th>\n",
       "      <th>version</th>\n",
       "      <th>retention_1</th>\n",
       "      <th>retention_7</th>\n",
       "      <th>count</th>\n",
       "      <th>median</th>\n",
       "      <th>mean</th>\n",
       "      <th>std</th>\n",
       "      <th>max</th>\n",
       "    </tr>\n",
       "  </thead>\n",
       "  <tbody>\n",
       "    <tr>\n",
       "      <th>0</th>\n",
       "      <td>gate_30</td>\n",
       "      <td>False</td>\n",
       "      <td>False</td>\n",
       "      <td>22804</td>\n",
       "      <td>6.0</td>\n",
       "      <td>11.347746</td>\n",
       "      <td>16.912217</td>\n",
       "      <td>188</td>\n",
       "    </tr>\n",
       "    <tr>\n",
       "      <th>1</th>\n",
       "      <td>gate_30</td>\n",
       "      <td>False</td>\n",
       "      <td>True</td>\n",
       "      <td>1678</td>\n",
       "      <td>39.0</td>\n",
       "      <td>52.019070</td>\n",
       "      <td>44.704859</td>\n",
       "      <td>189</td>\n",
       "    </tr>\n",
       "    <tr>\n",
       "      <th>2</th>\n",
       "      <td>gate_30</td>\n",
       "      <td>True</td>\n",
       "      <td>False</td>\n",
       "      <td>12936</td>\n",
       "      <td>31.0</td>\n",
       "      <td>42.209184</td>\n",
       "      <td>37.009030</td>\n",
       "      <td>189</td>\n",
       "    </tr>\n",
       "    <tr>\n",
       "      <th>3</th>\n",
       "      <td>gate_30</td>\n",
       "      <td>True</td>\n",
       "      <td>True</td>\n",
       "      <td>4436</td>\n",
       "      <td>82.0</td>\n",
       "      <td>88.310866</td>\n",
       "      <td>48.999782</td>\n",
       "      <td>189</td>\n",
       "    </tr>\n",
       "    <tr>\n",
       "      <th>4</th>\n",
       "      <td>gate_40</td>\n",
       "      <td>False</td>\n",
       "      <td>False</td>\n",
       "      <td>23552</td>\n",
       "      <td>6.0</td>\n",
       "      <td>11.420007</td>\n",
       "      <td>17.282023</td>\n",
       "      <td>189</td>\n",
       "    </tr>\n",
       "    <tr>\n",
       "      <th>5</th>\n",
       "      <td>gate_40</td>\n",
       "      <td>False</td>\n",
       "      <td>True</td>\n",
       "      <td>1620</td>\n",
       "      <td>40.0</td>\n",
       "      <td>53.440741</td>\n",
       "      <td>45.363669</td>\n",
       "      <td>189</td>\n",
       "    </tr>\n",
       "    <tr>\n",
       "      <th>6</th>\n",
       "      <td>gate_40</td>\n",
       "      <td>True</td>\n",
       "      <td>False</td>\n",
       "      <td>13202</td>\n",
       "      <td>31.0</td>\n",
       "      <td>42.889259</td>\n",
       "      <td>37.505397</td>\n",
       "      <td>189</td>\n",
       "    </tr>\n",
       "    <tr>\n",
       "      <th>7</th>\n",
       "      <td>gate_40</td>\n",
       "      <td>True</td>\n",
       "      <td>True</td>\n",
       "      <td>4257</td>\n",
       "      <td>87.0</td>\n",
       "      <td>91.032417</td>\n",
       "      <td>49.197721</td>\n",
       "      <td>189</td>\n",
       "    </tr>\n",
       "  </tbody>\n",
       "</table>\n",
       "</div>"
      ],
      "text/plain": [
       "   version  retention_1  retention_7  count  median       mean        std  max\n",
       "0  gate_30        False        False  22804     6.0  11.347746  16.912217  188\n",
       "1  gate_30        False         True   1678    39.0  52.019070  44.704859  189\n",
       "2  gate_30         True        False  12936    31.0  42.209184  37.009030  189\n",
       "3  gate_30         True         True   4436    82.0  88.310866  48.999782  189\n",
       "4  gate_40        False        False  23552     6.0  11.420007  17.282023  189\n",
       "5  gate_40        False         True   1620    40.0  53.440741  45.363669  189\n",
       "6  gate_40         True        False  13202    31.0  42.889259  37.505397  189\n",
       "7  gate_40         True         True   4257    87.0  91.032417  49.197721  189"
      ]
     },
     "execution_count": 336,
     "metadata": {},
     "output_type": "execute_result"
    }
   ],
   "source": [
    "df_ab.groupby(['version', 'retention_1', 'retention_7'])['sum_gamerounds'].agg([\"count\", \"median\", \"mean\", \"std\", \"max\"]).reset_index()"
   ]
  },
  {
   "cell_type": "markdown",
   "metadata": {},
   "source": [
    "## 5. A/B Testing"
   ]
  },
  {
   "cell_type": "markdown",
   "metadata": {},
   "source": [
    "### Assumptions:\n",
    "\n",
    "- Check Normality\n",
    "- If Normal Distribution, Check Homogenity"
   ]
  },
  {
   "cell_type": "markdown",
   "metadata": {},
   "source": [
    "### Steps:\n",
    "- Split & Define Control Group & Test Group\n",
    "- Apply Shapiro Test for normality\n",
    "- If parametric apply Levene Test for homogeneity of variances\n",
    "- If Parametric + homogeneity of variances apply T-Test\n",
    "- If Parametric - homogeneity of variances apply Welch Test\n",
    "- If Non-parametric apply Mann Whitney U Test directly"
   ]
  },
  {
   "cell_type": "code",
   "execution_count": 337,
   "metadata": {},
   "outputs": [
    {
     "data": {
      "text/html": [
       "<div>\n",
       "<style scoped>\n",
       "    .dataframe tbody tr th:only-of-type {\n",
       "        vertical-align: middle;\n",
       "    }\n",
       "\n",
       "    .dataframe tbody tr th {\n",
       "        vertical-align: top;\n",
       "    }\n",
       "\n",
       "    .dataframe thead th {\n",
       "        text-align: right;\n",
       "    }\n",
       "</style>\n",
       "<table border=\"1\" class=\"dataframe\">\n",
       "  <thead>\n",
       "    <tr style=\"text-align: right;\">\n",
       "      <th></th>\n",
       "      <th>userid</th>\n",
       "      <th>version</th>\n",
       "      <th>sum_gamerounds</th>\n",
       "      <th>retention_1</th>\n",
       "      <th>retention_7</th>\n",
       "    </tr>\n",
       "  </thead>\n",
       "  <tbody>\n",
       "    <tr>\n",
       "      <th>0</th>\n",
       "      <td>116</td>\n",
       "      <td>A</td>\n",
       "      <td>3</td>\n",
       "      <td>False</td>\n",
       "      <td>False</td>\n",
       "    </tr>\n",
       "    <tr>\n",
       "      <th>1</th>\n",
       "      <td>337</td>\n",
       "      <td>A</td>\n",
       "      <td>38</td>\n",
       "      <td>True</td>\n",
       "      <td>False</td>\n",
       "    </tr>\n",
       "    <tr>\n",
       "      <th>2</th>\n",
       "      <td>377</td>\n",
       "      <td>B</td>\n",
       "      <td>165</td>\n",
       "      <td>True</td>\n",
       "      <td>False</td>\n",
       "    </tr>\n",
       "    <tr>\n",
       "      <th>3</th>\n",
       "      <td>483</td>\n",
       "      <td>B</td>\n",
       "      <td>1</td>\n",
       "      <td>False</td>\n",
       "      <td>False</td>\n",
       "    </tr>\n",
       "    <tr>\n",
       "      <th>4</th>\n",
       "      <td>488</td>\n",
       "      <td>B</td>\n",
       "      <td>179</td>\n",
       "      <td>True</td>\n",
       "      <td>True</td>\n",
       "    </tr>\n",
       "  </tbody>\n",
       "</table>\n",
       "</div>"
      ],
      "text/plain": [
       "   userid version  sum_gamerounds  retention_1  retention_7\n",
       "0     116       A               3        False        False\n",
       "1     337       A              38         True        False\n",
       "2     377       B             165         True        False\n",
       "3     483       B               1        False        False\n",
       "4     488       B             179         True         True"
      ]
     },
     "execution_count": 337,
     "metadata": {},
     "output_type": "execute_result"
    }
   ],
   "source": [
    "# Define A/B groups\n",
    "df_ab[\"version\"] = np.where(df_ab['version'] == \"gate_30\", \"A\", \"B\")\n",
    "df_ab.head()"
   ]
  },
  {
   "cell_type": "code",
   "execution_count": 338,
   "metadata": {},
   "outputs": [],
   "source": [
    "# defining an A/B Testing test function\n",
    "def AB_test(df, group, target):\n",
    "    \n",
    "    # split A/B\n",
    "    groupA = df[df[group] == 'A'][target]\n",
    "    groupB = df[df[group] == 'B'][target]\n",
    "    \n",
    "    # assumption: normality\n",
    "    ntA = shapiro(groupA)[1] < 0.05\n",
    "    ntB = shapiro(groupA)[1] < 0.05\n",
    "    # H0: distribution is normal/P-value >= 0.05 - False\n",
    "    # H1: Distribution is not normal/P-value < 0.05 - True    \n",
    "    \n",
    "    if (ntA == False) & (ntB == False): # H0: distribution is normal\n",
    "        # parametric test\n",
    "        test_type = 'Parametric'\n",
    "        \n",
    "        # Assumption: Homogeneity if variances\n",
    "        levenetest = stats.levene(groupA, groupB)[1] < 0.05\n",
    "        # H0: Homogeneity/P-value >= 0.05 - False\n",
    "        # H1: Heterogeneous/P-value < 0.05 - True\n",
    "        \n",
    "        if levenetest == False: # homogeneity\n",
    "            homogeneity = 'Yes'\n",
    "            ttest = stats.ttest_ind(groupA, groupB, equal_var=True)[1]\n",
    "            # H0: A == B/P-value >= 0.05 - True\n",
    "            # H1: A != B/P-value < 0.05 - False\n",
    "            \n",
    "        else: # heterogeneous\n",
    "            homogeneity = 'Yes'\n",
    "            ttest = stats.ttest_ind(groupA, groupB, equal_var=True)[1]\n",
    "            # H0: A == B/P-value >= 0.05 - True\n",
    "            # H1: A != B/P-value < 0.05 - False\n",
    "            \n",
    "    else: # Non parametric test\n",
    "        test_type = 'Non-Parametric'\n",
    "        ttest = stats.mannwhitneyu(groupA, groupB)[1]\n",
    "        # H0: A == B/P-value >= 0.05 - True\n",
    "        # H1: A != B/P-value < 0.05 - False\n",
    "        \n",
    "    if ttest < 0.05:\n",
    "        ab_test_result = 'Reject H0' \n",
    "    else:\n",
    "        ab_test_result = 'Fail to Reject H0' \n",
    "        \n",
    "    if ab_test_result == 'Fail to Reject H0':\n",
    "        comment = 'A/B groups are similar!'\n",
    "    else:\n",
    "        comment = 'A/B groups are not similar!'\n",
    "    \n",
    "    \n",
    "    # Print Hypothesis\n",
    "    print('========='*10, '\\n')\n",
    "    print('A/B Testing Hypothesis')\n",
    "    print('H0: A == B')\n",
    "    print('H1: A != B', '\\n')\n",
    "    print('---------'*10, '\\n')\n",
    "    # Print result\n",
    "    if test_type == 'Parametric':\n",
    "        print(f'Test_type: {test_type}')\n",
    "        print(f'Homogeneity: {Homogeneity}')\n",
    "        print(f'A/B Hypothesis: {ab_test_result}')\n",
    "        print(f'p-value: {ttest}')\n",
    "        print(f'Comment: {comment}', '\\n')\n",
    "    \n",
    "    else:\n",
    "        print(f'Test_type: {test_type}')\n",
    "        print(f'A/B Hypothesis: {ab_test_result}')\n",
    "        print(f'p-value: {ttest:0.4f}')\n",
    "        print(f'Comment: {comment}', '\\n')      \n",
    "        \n",
    "            \n",
    "    print('========='*10)"
   ]
  },
  {
   "cell_type": "code",
   "execution_count": 341,
   "metadata": {},
   "outputs": [
    {
     "data": {
      "text/plain": [
       "True"
      ]
     },
     "execution_count": 341,
     "metadata": {},
     "output_type": "execute_result"
    }
   ],
   "source": [
    "'0OKFQCKNS' == '0OKFQCKNS'"
   ]
  },
  {
   "cell_type": "code",
   "execution_count": 339,
   "metadata": {},
   "outputs": [
    {
     "name": "stdout",
     "output_type": "stream",
     "text": [
      "========================================================================================== \n",
      "\n",
      "A/B Testing Hypothesis\n",
      "H0: A == B\n",
      "H1: A != B \n",
      "\n",
      "------------------------------------------------------------------------------------------ \n",
      "\n",
      "Test_type: Non-Parametric\n",
      "A/B Hypothesis: Fail to Reject H0\n",
      "p-value: 0.0557\n",
      "Comment: A/B groups are similar! \n",
      "\n",
      "==========================================================================================\n"
     ]
    }
   ],
   "source": [
    "# Apply A/B Testing\n",
    "AB_test(df_ab, \"version\", \"sum_gamerounds\")"
   ]
  },
  {
   "cell_type": "markdown",
   "metadata": {},
   "source": [
    "## 6. Conclusion "
   ]
  },
  {
   "cell_type": "markdown",
   "metadata": {},
   "source": [
    "Let's remind the goal of this project. Our goal in this project is to reate an analysis of an A/B test where the first gate in Cookie Cats was moved from level 30 to level 40. In particular, we will analyze the impact on player retention and game rounds.\n",
    "\n",
    "First thing first, we investigated relationships and structures in the data. There was no duplicate and missing value problem but there was outlier problem that we handled. We also explored the data further in order to help us to understand the data and problem\n",
    "\n",
    "After conducting A/B testing, the analysis result gives us some important information. Shapir testing rejected H0 for normality assumption, which means that our data is not normally distributed therefore we needed to apply a Non-parametric test as called Mann Whitney U to compare the two groups. As a result, Mann Whitney U testing failed to reject H0 hypothesis and we learned that A/B groups are similar.\n",
    "\n",
    "Ultimately, There is no statistically significant difference between two groups about moving first gate from level 30 to level 40 for game rounds."
   ]
  }
 ],
 "metadata": {
  "kernelspec": {
   "display_name": "base",
   "language": "python",
   "name": "python3"
  },
  "language_info": {
   "codemirror_mode": {
    "name": "ipython",
    "version": 3
   },
   "file_extension": ".py",
   "mimetype": "text/x-python",
   "name": "python",
   "nbconvert_exporter": "python",
   "pygments_lexer": "ipython3",
   "version": "3.9.13 (main, Aug 25 2022, 23:51:50) [MSC v.1916 64 bit (AMD64)]"
  },
  "vscode": {
   "interpreter": {
    "hash": "4b0244321b8b291f3bb07e7507a95a7730d2be85f6b31b4946decf2c728b9394"
   }
  }
 },
 "nbformat": 4,
 "nbformat_minor": 4
}
