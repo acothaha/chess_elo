{
 "cells": [
  {
   "cell_type": "code",
   "execution_count": 6,
   "metadata": {},
   "outputs": [
    {
     "data": {
      "text/plain": [
       "'2023-05-11'"
      ]
     },
     "execution_count": 6,
     "metadata": {},
     "output_type": "execute_result"
    }
   ],
   "source": [
    "from pathlib import Path \n",
    "import pandas as pd\n",
    "import boto3\n",
    "import json\n",
    "from datetime import date\n",
    "from time import time\n",
    "from prefect import flow, task\n",
    "from prefect_aws import AwsCredentials\n",
    "from prefect_gcp import GcpCredentials"
   ]
  }
 ],
 "metadata": {
  "kernelspec": {
   "display_name": "base",
   "language": "python",
   "name": "python3"
  },
  "language_info": {
   "codemirror_mode": {
    "name": "ipython",
    "version": 3
   },
   "file_extension": ".py",
   "mimetype": "text/x-python",
   "name": "python",
   "nbconvert_exporter": "python",
   "pygments_lexer": "ipython3",
   "version": "3.9.13"
  },
  "vscode": {
   "interpreter": {
    "hash": "4b0244321b8b291f3bb07e7507a95a7730d2be85f6b31b4946decf2c728b9394"
   }
  }
 },
 "nbformat": 4,
 "nbformat_minor": 4
}
